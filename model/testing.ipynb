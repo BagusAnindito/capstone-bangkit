{
  "cells": [
    {
      "cell_type": "code",
      "execution_count": 75,
      "metadata": {
        "id": "eDrpPfw-uQBs"
      },
      "outputs": [],
      "source": [
        "#Importing library\n",
        "\n",
        "import tensorflow as tf\n",
        "from tensorflow.keras.callbacks import EarlyStopping\n",
        "from tensorflow.keras.layers import Dropout\n",
        "from tensorflow.keras import regularizers\n",
        "from tensorflow.keras.preprocessing.text import Tokenizer\n",
        "from tensorflow.keras.preprocessing.sequence import pad_sequences\n",
        "from tensorflow.keras.models import Sequential\n",
        "from tensorflow.keras.layers import Embedding, GlobalAveragePooling1D, Dense\n",
        "import pandas as pd\n",
        "from sklearn.model_selection import train_test_split\n",
        "from sklearn.utils.class_weight import compute_class_weight\n",
        "from sklearn.metrics import confusion_matrix, ConfusionMatrixDisplay\n",
        "import matplotlib.pyplot as plt\n",
        "import numpy as np"
      ]
    },
    {
      "cell_type": "code",
      "execution_count": 76,
      "metadata": {
        "colab": {
          "base_uri": "https://localhost:8080/",
          "height": 206
        },
        "id": "29ctXtR5viIH",
        "outputId": "e6e10fe1-09ab-4cbe-e134-5c7cba66372b"
      },
      "outputs": [
        {
          "data": {
            "application/vnd.google.colaboratory.intrinsic+json": {
              "summary": "{\n  \"name\": \"df\",\n  \"rows\": 13690,\n  \"fields\": [\n    {\n      \"column\": \"text\",\n      \"properties\": {\n        \"dtype\": \"string\",\n        \"num_unique_values\": 13686,\n        \"samples\": [\n          \"Anyone else constantly tense, physically? this just started and please shoot me\\n\\nmy legs just hurt always because the muscles are sore from being tense. i have this horrible tension in my chest as well. fuck. \\n\\ni miss when the only physical symptoms were me crying about math class in middle school. \",\n          \"A Chronicle of my Irrational Fears, Part I Disclaimer: I've wanted to write something somewhere about my panic attacks and the progression of them for a long time. Reddit seemed like the best place to start and a cursory search led me to this forum as of today. I am not familiar with this subreddit but I did review the rules and I hope I am in the right place. If there is a better place to share my story, let me know. I don't particularly expect anyone to read this since I know it will be long and uninteresting, but really I felt it might be helpful for me to write everything out. If it helps others too, or if I can find other weirdos like me, then great. :)\\n\\nI've dealt with some form of anxiety since I was 5. My particular flavor of choice is an irrational fear of .... {drumroll} driving on the freeway. \\n\\nAs a passenger. As a driver. It doesn't matter. \\n\\nAnd let me go ahead and get some of the usual questions out of the way. You know, the ones that would make me seem slightly less abnormal? Yeah, those ones.   \\nWas I in a traumatic car wreck?   \\nDid my parents die in a traumatic car wreck?  \\nDid I once witness a traumatic car wreck?   \\nWas I separated at birth from an unknown twin who died in a traumatic car wreck?   \\n\\n\\nNope. No, No, and Nope again. There *is.* ***no****. reason\\\\*.* Which as you'll learn, has been extremely frustrating to my intellectual and overthinking self. \\n\\nIn general, I get panic attacks/extreme anxiety when I am on a long trip; riding on the freeway; or riding on a road that looks an awful lot like a freeway; but sometimes at more tangential triggers like being on a drive far from home or an in unfamiliar place. It's a little bit claustrophobia, a little bit agoraphobia, and just a little bit my very own special unicorn breed of insanity.   \\n\\n\\nBut let's just start at the beginning: my earliest memory of anxiety or a panic attack.   \\nI was five years old (i think).   \\nI had just gotten through with ballet class. It was a hot texas (summer? fall? does it matter? it was hot). I remember in this particular class, we had practiced twirls all the way across throom. Pirouettes or whatever. And \\\"spotting\\\": looking at a point in the room, quick spin, and set your eyes on the point again to minimize dizziness. Anyway, I just remember getting really dizzy to where I started falling over and hyperventilating and my teacher had to comfort me and sit me out of class while she quietly put to death her dreams of my ever being a real, successful prima ballerina.   \\n\\n\\nLater, my dad picked me up in his awful, clangy, uncomfortable 1986 volvo to drive me home (the car felt old, even then). I don't know if it was a mixture of the heat, the dizziness from earlier, or the smell that only comes from a poorly air-conditioned 1986 volvo, but on the ride home, I started *freakin'. out.* Restless, rolling the window down, panting, crying that I wanted, needed to stop the car and get out. The similarity to a dog in a car who had just figured out that he was definitely *not going to the park* was striking.   \\n\\n\\nI don't remember much else after that. I don't know if what I experienced was a true panic attack, or if I just got overheated and tired. A five year old doesn't know how to put into words what they're experiencing (and it took me another 14 or so years for me to figure out what the heck was happening, anyway).  I know my dad told my mom about it, and my mom asked me about it. I know that that experience caused me to form a connection between what happened, and \\\"dizziness\\\" for many, many years--a faulty mental connection that lasted for years and led to many in-depth, and totally unnecessary, vertigo &amp; inner ear tests.   \\n\\n\\nBored yet? I'll stop here, cause there's too much ground to cover in one post. Stay tuned for Episode 2: Paxil, Drammamine, and How I Got To Go To Therapy When I Was, Like, 9  \\n\\n\\n  \\n\",\n          \"Anyone had Strattera-induced hypomania? I've been diagnosed with ADHD recently and stimulant medication isn't working too well for me. I'm trying Concerta soon, but if that doesn't work my only other option is Strattera. But I've seen a couple of articles saying that they've induced hypomania in a couple of people. Is it like an anti-depressant in that sense where it can cause mania in people with Bipolar?\"\n        ],\n        \"semantic_type\": \"\",\n        \"description\": \"\"\n      }\n    },\n    {\n      \"column\": \"label\",\n      \"properties\": {\n        \"dtype\": \"number\",\n        \"std\": 0,\n        \"min\": 0,\n        \"max\": 2,\n        \"num_unique_values\": 3,\n        \"samples\": [\n          1,\n          2,\n          0\n        ],\n        \"semantic_type\": \"\",\n        \"description\": \"\"\n      }\n    }\n  ]\n}",
              "type": "dataframe",
              "variable_name": "df"
            },
            "text/html": [
              "\n",
              "  <div id=\"df-1d7ea8ab-bb59-4f05-bee6-142e57eb1ce1\" class=\"colab-df-container\">\n",
              "    <div>\n",
              "<style scoped>\n",
              "    .dataframe tbody tr th:only-of-type {\n",
              "        vertical-align: middle;\n",
              "    }\n",
              "\n",
              "    .dataframe tbody tr th {\n",
              "        vertical-align: top;\n",
              "    }\n",
              "\n",
              "    .dataframe thead th {\n",
              "        text-align: right;\n",
              "    }\n",
              "</style>\n",
              "<table border=\"1\" class=\"dataframe\">\n",
              "  <thead>\n",
              "    <tr style=\"text-align: right;\">\n",
              "      <th></th>\n",
              "      <th>text</th>\n",
              "      <th>label</th>\n",
              "    </tr>\n",
              "  </thead>\n",
              "  <tbody>\n",
              "    <tr>\n",
              "      <th>0</th>\n",
              "      <td>This seroquel withdrawal sucks Problems sleepi...</td>\n",
              "      <td>1</td>\n",
              "    </tr>\n",
              "    <tr>\n",
              "      <th>1</th>\n",
              "      <td>Mental/emotional pain What do you do when you ...</td>\n",
              "      <td>1</td>\n",
              "    </tr>\n",
              "    <tr>\n",
              "      <th>2</th>\n",
              "      <td>Bipolar and different perspectives? Hi everyon...</td>\n",
              "      <td>1</td>\n",
              "    </tr>\n",
              "    <tr>\n",
              "      <th>3</th>\n",
              "      <td>2019 resolution: be S.T.A.B.L.E. Hey friends! ...</td>\n",
              "      <td>1</td>\n",
              "    </tr>\n",
              "    <tr>\n",
              "      <th>4</th>\n",
              "      <td>Enjoy life with this one weird trick. Yes, you...</td>\n",
              "      <td>1</td>\n",
              "    </tr>\n",
              "  </tbody>\n",
              "</table>\n",
              "</div>\n",
              "    <div class=\"colab-df-buttons\">\n",
              "\n",
              "  <div class=\"colab-df-container\">\n",
              "    <button class=\"colab-df-convert\" onclick=\"convertToInteractive('df-1d7ea8ab-bb59-4f05-bee6-142e57eb1ce1')\"\n",
              "            title=\"Convert this dataframe to an interactive table.\"\n",
              "            style=\"display:none;\">\n",
              "\n",
              "  <svg xmlns=\"http://www.w3.org/2000/svg\" height=\"24px\" viewBox=\"0 -960 960 960\">\n",
              "    <path d=\"M120-120v-720h720v720H120Zm60-500h600v-160H180v160Zm220 220h160v-160H400v160Zm0 220h160v-160H400v160ZM180-400h160v-160H180v160Zm440 0h160v-160H620v160ZM180-180h160v-160H180v160Zm440 0h160v-160H620v160Z\"/>\n",
              "  </svg>\n",
              "    </button>\n",
              "\n",
              "  <style>\n",
              "    .colab-df-container {\n",
              "      display:flex;\n",
              "      gap: 12px;\n",
              "    }\n",
              "\n",
              "    .colab-df-convert {\n",
              "      background-color: #E8F0FE;\n",
              "      border: none;\n",
              "      border-radius: 50%;\n",
              "      cursor: pointer;\n",
              "      display: none;\n",
              "      fill: #1967D2;\n",
              "      height: 32px;\n",
              "      padding: 0 0 0 0;\n",
              "      width: 32px;\n",
              "    }\n",
              "\n",
              "    .colab-df-convert:hover {\n",
              "      background-color: #E2EBFA;\n",
              "      box-shadow: 0px 1px 2px rgba(60, 64, 67, 0.3), 0px 1px 3px 1px rgba(60, 64, 67, 0.15);\n",
              "      fill: #174EA6;\n",
              "    }\n",
              "\n",
              "    .colab-df-buttons div {\n",
              "      margin-bottom: 4px;\n",
              "    }\n",
              "\n",
              "    [theme=dark] .colab-df-convert {\n",
              "      background-color: #3B4455;\n",
              "      fill: #D2E3FC;\n",
              "    }\n",
              "\n",
              "    [theme=dark] .colab-df-convert:hover {\n",
              "      background-color: #434B5C;\n",
              "      box-shadow: 0px 1px 3px 1px rgba(0, 0, 0, 0.15);\n",
              "      filter: drop-shadow(0px 1px 2px rgba(0, 0, 0, 0.3));\n",
              "      fill: #FFFFFF;\n",
              "    }\n",
              "  </style>\n",
              "\n",
              "    <script>\n",
              "      const buttonEl =\n",
              "        document.querySelector('#df-1d7ea8ab-bb59-4f05-bee6-142e57eb1ce1 button.colab-df-convert');\n",
              "      buttonEl.style.display =\n",
              "        google.colab.kernel.accessAllowed ? 'block' : 'none';\n",
              "\n",
              "      async function convertToInteractive(key) {\n",
              "        const element = document.querySelector('#df-1d7ea8ab-bb59-4f05-bee6-142e57eb1ce1');\n",
              "        const dataTable =\n",
              "          await google.colab.kernel.invokeFunction('convertToInteractive',\n",
              "                                                    [key], {});\n",
              "        if (!dataTable) return;\n",
              "\n",
              "        const docLinkHtml = 'Like what you see? Visit the ' +\n",
              "          '<a target=\"_blank\" href=https://colab.research.google.com/notebooks/data_table.ipynb>data table notebook</a>'\n",
              "          + ' to learn more about interactive tables.';\n",
              "        element.innerHTML = '';\n",
              "        dataTable['output_type'] = 'display_data';\n",
              "        await google.colab.output.renderOutput(dataTable, element);\n",
              "        const docLink = document.createElement('div');\n",
              "        docLink.innerHTML = docLinkHtml;\n",
              "        element.appendChild(docLink);\n",
              "      }\n",
              "    </script>\n",
              "  </div>\n",
              "\n",
              "\n",
              "<div id=\"df-72b4c216-4f32-4ea5-8c4d-f5742d969cb6\">\n",
              "  <button class=\"colab-df-quickchart\" onclick=\"quickchart('df-72b4c216-4f32-4ea5-8c4d-f5742d969cb6')\"\n",
              "            title=\"Suggest charts\"\n",
              "            style=\"display:none;\">\n",
              "\n",
              "<svg xmlns=\"http://www.w3.org/2000/svg\" height=\"24px\"viewBox=\"0 0 24 24\"\n",
              "     width=\"24px\">\n",
              "    <g>\n",
              "        <path d=\"M19 3H5c-1.1 0-2 .9-2 2v14c0 1.1.9 2 2 2h14c1.1 0 2-.9 2-2V5c0-1.1-.9-2-2-2zM9 17H7v-7h2v7zm4 0h-2V7h2v10zm4 0h-2v-4h2v4z\"/>\n",
              "    </g>\n",
              "</svg>\n",
              "  </button>\n",
              "\n",
              "<style>\n",
              "  .colab-df-quickchart {\n",
              "      --bg-color: #E8F0FE;\n",
              "      --fill-color: #1967D2;\n",
              "      --hover-bg-color: #E2EBFA;\n",
              "      --hover-fill-color: #174EA6;\n",
              "      --disabled-fill-color: #AAA;\n",
              "      --disabled-bg-color: #DDD;\n",
              "  }\n",
              "\n",
              "  [theme=dark] .colab-df-quickchart {\n",
              "      --bg-color: #3B4455;\n",
              "      --fill-color: #D2E3FC;\n",
              "      --hover-bg-color: #434B5C;\n",
              "      --hover-fill-color: #FFFFFF;\n",
              "      --disabled-bg-color: #3B4455;\n",
              "      --disabled-fill-color: #666;\n",
              "  }\n",
              "\n",
              "  .colab-df-quickchart {\n",
              "    background-color: var(--bg-color);\n",
              "    border: none;\n",
              "    border-radius: 50%;\n",
              "    cursor: pointer;\n",
              "    display: none;\n",
              "    fill: var(--fill-color);\n",
              "    height: 32px;\n",
              "    padding: 0;\n",
              "    width: 32px;\n",
              "  }\n",
              "\n",
              "  .colab-df-quickchart:hover {\n",
              "    background-color: var(--hover-bg-color);\n",
              "    box-shadow: 0 1px 2px rgba(60, 64, 67, 0.3), 0 1px 3px 1px rgba(60, 64, 67, 0.15);\n",
              "    fill: var(--button-hover-fill-color);\n",
              "  }\n",
              "\n",
              "  .colab-df-quickchart-complete:disabled,\n",
              "  .colab-df-quickchart-complete:disabled:hover {\n",
              "    background-color: var(--disabled-bg-color);\n",
              "    fill: var(--disabled-fill-color);\n",
              "    box-shadow: none;\n",
              "  }\n",
              "\n",
              "  .colab-df-spinner {\n",
              "    border: 2px solid var(--fill-color);\n",
              "    border-color: transparent;\n",
              "    border-bottom-color: var(--fill-color);\n",
              "    animation:\n",
              "      spin 1s steps(1) infinite;\n",
              "  }\n",
              "\n",
              "  @keyframes spin {\n",
              "    0% {\n",
              "      border-color: transparent;\n",
              "      border-bottom-color: var(--fill-color);\n",
              "      border-left-color: var(--fill-color);\n",
              "    }\n",
              "    20% {\n",
              "      border-color: transparent;\n",
              "      border-left-color: var(--fill-color);\n",
              "      border-top-color: var(--fill-color);\n",
              "    }\n",
              "    30% {\n",
              "      border-color: transparent;\n",
              "      border-left-color: var(--fill-color);\n",
              "      border-top-color: var(--fill-color);\n",
              "      border-right-color: var(--fill-color);\n",
              "    }\n",
              "    40% {\n",
              "      border-color: transparent;\n",
              "      border-right-color: var(--fill-color);\n",
              "      border-top-color: var(--fill-color);\n",
              "    }\n",
              "    60% {\n",
              "      border-color: transparent;\n",
              "      border-right-color: var(--fill-color);\n",
              "    }\n",
              "    80% {\n",
              "      border-color: transparent;\n",
              "      border-right-color: var(--fill-color);\n",
              "      border-bottom-color: var(--fill-color);\n",
              "    }\n",
              "    90% {\n",
              "      border-color: transparent;\n",
              "      border-bottom-color: var(--fill-color);\n",
              "    }\n",
              "  }\n",
              "</style>\n",
              "\n",
              "  <script>\n",
              "    async function quickchart(key) {\n",
              "      const quickchartButtonEl =\n",
              "        document.querySelector('#' + key + ' button');\n",
              "      quickchartButtonEl.disabled = true;  // To prevent multiple clicks.\n",
              "      quickchartButtonEl.classList.add('colab-df-spinner');\n",
              "      try {\n",
              "        const charts = await google.colab.kernel.invokeFunction(\n",
              "            'suggestCharts', [key], {});\n",
              "      } catch (error) {\n",
              "        console.error('Error during call to suggestCharts:', error);\n",
              "      }\n",
              "      quickchartButtonEl.classList.remove('colab-df-spinner');\n",
              "      quickchartButtonEl.classList.add('colab-df-quickchart-complete');\n",
              "    }\n",
              "    (() => {\n",
              "      let quickchartButtonEl =\n",
              "        document.querySelector('#df-72b4c216-4f32-4ea5-8c4d-f5742d969cb6 button');\n",
              "      quickchartButtonEl.style.display =\n",
              "        google.colab.kernel.accessAllowed ? 'block' : 'none';\n",
              "    })();\n",
              "  </script>\n",
              "</div>\n",
              "    </div>\n",
              "  </div>\n"
            ],
            "text/plain": [
              "                                                text  label\n",
              "0  This seroquel withdrawal sucks Problems sleepi...      1\n",
              "1  Mental/emotional pain What do you do when you ...      1\n",
              "2  Bipolar and different perspectives? Hi everyon...      1\n",
              "3  2019 resolution: be S.T.A.B.L.E. Hey friends! ...      1\n",
              "4  Enjoy life with this one weird trick. Yes, you...      1"
            ]
          },
          "execution_count": 76,
          "metadata": {},
          "output_type": "execute_result"
        }
      ],
      "source": [
        "# load dataset\n",
        "df = pd.read_csv('mental-health2.csv')\n",
        "\n",
        "# Column 'text' for sentences and column 'label' for label\n",
        "texts = df['text'].values\n",
        "labels = df['label'].values\n",
        "df.head()"
      ]
    },
    {
      "cell_type": "code",
      "execution_count": 77,
      "metadata": {
        "colab": {
          "base_uri": "https://localhost:8080/"
        },
        "id": "swRNyQdZvjgO",
        "outputId": "35d1eedb-18f2-4ab5-963e-175bf5e0a53e"
      },
      "outputs": [
        {
          "name": "stdout",
          "output_type": "stream",
          "text": [
            "Class Weights:  {0: 1.8856749311294765, 1: 5.014652014652015, 2: 0.44047619047619047}\n"
          ]
        }
      ],
      "source": [
        "# Calculate class weights\n",
        "class_weights = compute_class_weight(class_weight='balanced', classes=np.unique(labels), y=labels)\n",
        "class_weights_dict = {i: class_weights[i] for i in range(len(class_weights))}\n",
        "\n",
        "print(\"Class Weights: \", class_weights_dict)"
      ]
    },
    {
      "cell_type": "code",
      "execution_count": 78,
      "metadata": {
        "id": "NHtFIHiKv7Si"
      },
      "outputs": [],
      "source": [
        "def weighted_loss(weights):\n",
        "    def loss(y_true, y_pred):\n",
        "        y_true = tf.cast(y_true, tf.int32)\n",
        "        sample_weights = tf.gather(weights, y_true)\n",
        "        unweighted_losses = tf.keras.losses.sparse_categorical_crossentropy(y_true, y_pred)\n",
        "        weighted_losses = unweighted_losses * sample_weights\n",
        "        return tf.reduce_mean(weighted_losses)\n",
        "    return loss"
      ]
    },
    {
      "cell_type": "code",
      "execution_count": 79,
      "metadata": {
        "id": "GGRWv2jLv_27"
      },
      "outputs": [],
      "source": [
        "# Preprocessing\n",
        "vocab_size = 1000\n",
        "embedding_dim = 16\n",
        "max_length = 20\n",
        "trunc_type = 'post'\n",
        "padding_type = 'post'\n",
        "oov_tok = \"<OOV>\"\n",
        "\n",
        "tokenizer = Tokenizer(num_words=vocab_size, oov_token=oov_tok)\n",
        "tokenizer.fit_on_texts(texts)\n",
        "word_index = tokenizer.word_index\n",
        "sequences = tokenizer.texts_to_sequences(texts)\n",
        "padded = pad_sequences(sequences, maxlen=max_length, padding=padding_type, truncating=trunc_type)"
      ]
    },
    {
      "cell_type": "code",
      "execution_count": 80,
      "metadata": {
        "id": "A8iTBdbBwC_2"
      },
      "outputs": [],
      "source": [
        "# separating data into training and testing\n",
        "train_sequences, test_sequences, train_labels, test_labels = train_test_split(padded, labels, test_size=0.2, random_state=42)\n",
        "\n",
        "train_labels = train_labels.astype(int)\n",
        "test_labels = test_labels.astype(int)"
      ]
    },
    {
      "cell_type": "code",
      "execution_count": 81,
      "metadata": {
        "id": "bw7PYS0uwOF-"
      },
      "outputs": [],
      "source": [
        "# making model\n",
        "model = Sequential([\n",
        "    Embedding(vocab_size, embedding_dim, input_length=max_length),\n",
        "    GlobalAveragePooling1D(),\n",
        "    Dense(24, activation='relu', kernel_regularizer=regularizers.l2(0.01)),\n",
        "    Dropout(0.5),\n",
        "    Dense(3, activation='softmax')\n",
        "])\n",
        "weights = tf.constant(class_weights, dtype=tf.float32)\n",
        "model.compile(loss=weighted_loss(weights), optimizer='adam', metrics=['accuracy'])"
      ]
    },
    {
      "cell_type": "code",
      "execution_count": 82,
      "metadata": {
        "colab": {
          "base_uri": "https://localhost:8080/"
        },
        "id": "xdBaqcNRwRcb",
        "outputId": "99a194e0-16cd-4de4-a499-08a45c7e6d9e"
      },
      "outputs": [
        {
          "name": "stdout",
          "output_type": "stream",
          "text": [
            "Epoch 1/50\n",
            "343/343 [==============================] - 1s 3ms/step - loss: 0.8705 - accuracy: 0.7530 - val_loss: 0.7145 - val_accuracy: 0.7619\n",
            "Epoch 2/50\n",
            "343/343 [==============================] - 1s 2ms/step - loss: 0.6917 - accuracy: 0.7555 - val_loss: 0.6297 - val_accuracy: 0.7619\n",
            "Epoch 3/50\n",
            "343/343 [==============================] - 1s 2ms/step - loss: 0.6099 - accuracy: 0.7555 - val_loss: 0.5740 - val_accuracy: 0.7619\n",
            "Epoch 4/50\n",
            "343/343 [==============================] - 1s 2ms/step - loss: 0.5661 - accuracy: 0.7773 - val_loss: 0.5453 - val_accuracy: 0.8072\n",
            "Epoch 5/50\n",
            "343/343 [==============================] - 1s 2ms/step - loss: 0.5364 - accuracy: 0.8169 - val_loss: 0.5274 - val_accuracy: 0.8236\n",
            "Epoch 6/50\n",
            "343/343 [==============================] - 1s 2ms/step - loss: 0.5165 - accuracy: 0.8294 - val_loss: 0.5161 - val_accuracy: 0.8324\n",
            "Epoch 7/50\n",
            "343/343 [==============================] - 1s 2ms/step - loss: 0.5018 - accuracy: 0.8336 - val_loss: 0.5081 - val_accuracy: 0.8327\n",
            "Epoch 8/50\n",
            "334/343 [============================>.] - ETA: 0s - loss: 0.4883 - accuracy: 0.8376Restoring model weights from the end of the best epoch: 7.\n",
            "343/343 [==============================] - 1s 2ms/step - loss: 0.4881 - accuracy: 0.8376 - val_loss: 0.5028 - val_accuracy: 0.8316\n",
            "Epoch 8: early stopping\n"
          ]
        }
      ],
      "source": [
        "# EarlyStopping callback\n",
        "early_stopping = EarlyStopping(\n",
        "    monitor='val_accuracy',\n",
        "    patience=5,\n",
        "    verbose=1,\n",
        "    mode='max',\n",
        "    restore_best_weights=True,\n",
        "    baseline=0.9\n",
        ")\n",
        "\n",
        "# Melatih model\n",
        "num_epochs = 50\n",
        "history = model.fit(\n",
        "    train_sequences,\n",
        "    train_labels,\n",
        "    epochs=num_epochs,\n",
        "    validation_data=(test_sequences, test_labels),\n",
        "    callbacks=[early_stopping]\n",
        ")"
      ]
    },
    {
      "cell_type": "code",
      "execution_count": 83,
      "metadata": {
        "colab": {
          "base_uri": "https://localhost:8080/"
        },
        "id": "AQh3FjPex7o2",
        "outputId": "f7daff18-13ba-4845-9266-f97433667653"
      },
      "outputs": [
        {
          "name": "stdout",
          "output_type": "stream",
          "text": [
            "86/86 [==============================] - 0s 1ms/step - loss: 0.5081 - accuracy: 0.8327\n",
            "Loss: 0.508139967918396\n",
            "Accuracy: 0.8327246308326721\n"
          ]
        }
      ],
      "source": [
        "# model evaluation\n",
        "loss, accuracy = model.evaluate(test_sequences, test_labels)\n",
        "print(f'Loss: {loss}')\n",
        "print(f'Accuracy: {accuracy}')"
      ]
    },
    {
      "cell_type": "code",
      "execution_count": 84,
      "metadata": {
        "id": "7pP_UiZdyDxI"
      },
      "outputs": [],
      "source": [
        "# prediction using model\n",
        "new_texts = '''diee\n",
        "'''\n",
        "new_sequences = tokenizer.texts_to_sequences(new_texts)\n",
        "new_padded = pad_sequences(new_sequences, maxlen=max_length, padding=padding_type, truncating=trunc_type)"
      ]
    },
    {
      "cell_type": "code",
      "execution_count": 85,
      "metadata": {
        "colab": {
          "base_uri": "https://localhost:8080/"
        },
        "id": "yE7AyiQTyLrd",
        "outputId": "09d9fcfd-81eb-4d37-92f8-3d0d2686f5ac"
      },
      "outputs": [
        {
          "name": "stdout",
          "output_type": "stream",
          "text": [
            "1/1 [==============================] - 0s 43ms/step\n",
            "[[0.37325472 0.16358851 0.46315676]\n",
            " [0.36204356 0.15821508 0.47974136]\n",
            " [0.37325472 0.16358851 0.46315676]\n",
            " [0.37325472 0.16358851 0.46315676]\n",
            " [0.36810002 0.16096973 0.4709303 ]]\n"
          ]
        }
      ],
      "source": [
        "predictions = model.predict(new_padded)\n",
        "print(predictions)"
      ]
    },
    {
      "cell_type": "code",
      "execution_count": 86,
      "metadata": {
        "colab": {
          "base_uri": "https://localhost:8080/"
        },
        "id": "AYoDticVyNbA",
        "outputId": "a612afb4-383d-4128-9a5f-a5b9ccb6777b"
      },
      "outputs": [
        {
          "name": "stdout",
          "output_type": "stream",
          "text": [
            "Class 0: 37.33%\n",
            "Class 1: 16.36%\n",
            "Class 2: 46.32%\n",
            "Predicted class: 2\n"
          ]
        }
      ],
      "source": [
        "# convert prediction into percentage\n",
        "predictions_percent = predictions * 100\n",
        "for i, prediction in enumerate(predictions_percent[0]):\n",
        "    print(f\"Class {i}: {prediction:.2f}%\")\n",
        "\n",
        "# predict result interpretation\n",
        "predicted_class = predictions.argmax(axis=1)\n",
        "print(f'Predicted class: {predicted_class[0]}')"
      ]
    }
  ],
  "metadata": {
    "colab": {
      "machine_shape": "hm",
      "provenance": []
    },
    "kernelspec": {
      "display_name": "Python 3",
      "name": "python3"
    },
    "language_info": {
      "name": "python"
    }
  },
  "nbformat": 4,
  "nbformat_minor": 0
}
